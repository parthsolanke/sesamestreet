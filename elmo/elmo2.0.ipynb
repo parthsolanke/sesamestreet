{
 "cells": [
  {
   "cell_type": "code",
   "execution_count": 1,
   "metadata": {},
   "outputs": [],
   "source": [
    "import torch\n",
    "import random\n",
    "from tqdm import tqdm\n",
    "import torch.nn.functional as F\n",
    "import matplotlib.pyplot as plt\n",
    "%matplotlib inline"
   ]
  },
  {
   "cell_type": "code",
   "execution_count": 2,
   "metadata": {},
   "outputs": [
    {
     "name": "stdout",
     "output_type": "stream",
     "text": [
      "Number of words: 55272\n",
      "first 5 words: ['parish', 'manhi', 'akshaykeerti', 'suran', 'tomali']\n"
     ]
    }
   ],
   "source": [
    "# loading dataset\n",
    "words = open(r\"data\\names.txt\").read().splitlines()\n",
    "print(f\"Number of words: {len(words)}\")\n",
    "print(f\"first 5 words: {words[:5]}\")"
   ]
  },
  {
   "cell_type": "code",
   "execution_count": 3,
   "metadata": {},
   "outputs": [
    {
     "name": "stdout",
     "output_type": "stream",
     "text": [
      "Charecters to id: {'a': 1, 'b': 2, 'c': 3, 'd': 4, 'e': 5, 'f': 6, 'g': 7, 'h': 8, 'i': 9, 'j': 10, 'k': 11, 'l': 12, 'm': 13, 'n': 14, 'o': 15, 'p': 16, 'q': 17, 'r': 18, 's': 19, 't': 20, 'u': 21, 'v': 22, 'w': 23, 'x': 24, 'y': 25, 'z': 26, '.': 0}\n",
      "Id to charecters: {1: 'a', 2: 'b', 3: 'c', 4: 'd', 5: 'e', 6: 'f', 7: 'g', 8: 'h', 9: 'i', 10: 'j', 11: 'k', 12: 'l', 13: 'm', 14: 'n', 15: 'o', 16: 'p', 17: 'q', 18: 'r', 19: 's', 20: 't', 21: 'u', 22: 'v', 23: 'w', 24: 'x', 25: 'y', 26: 'z', 0: '.'}\n",
      "Vocab size: 27\n"
     ]
    }
   ],
   "source": [
    "# creating a look up table (dictionary to map int to characters and vice versa)\n",
    "chars = sorted(list(set(''.join(words))))\n",
    "ch_to_id = {ch:i+1 for i, ch in enumerate(chars)}\n",
    "ch_to_id['.'] = 0 # special char to mark ending and starting of a word\n",
    "vocab_size = len(ch_to_id)\n",
    "id_to_ch = {i:ch for ch, i in ch_to_id.items()}\n",
    "print(f\"Charecters to id: {ch_to_id}\")\n",
    "print(f\"Id to charecters: {id_to_ch}\")\n",
    "print(f\"Vocab size: {vocab_size}\")"
   ]
  },
  {
   "cell_type": "code",
   "execution_count": 4,
   "metadata": {},
   "outputs": [
    {
     "name": "stdout",
     "output_type": "stream",
     "text": [
      "\n",
      "X_train shape: torch.Size([401529, 3])\n",
      "Y_train shape: torch.Size([401529])\n",
      "\n",
      "X_dev shape: torch.Size([50146, 3])\n",
      "Y_dev shape: torch.Size([50146])\n",
      "\n",
      "X_test shape: torch.Size([50292, 3])\n",
      "Y_test shape: torch.Size([50292])\n"
     ]
    }
   ],
   "source": [
    "# building our datasets: training split(80%), dev/validation split(10%) and test split(10%)\n",
    "\n",
    "block_size = 3 # context length: how many charecters to consider to predict the next charecter\n",
    "def buid_dataset(words, str):\n",
    "    X, Y = [], [] # X: context, Y: target\n",
    "    for word in words:\n",
    "        context = [0] * block_size\n",
    "        for ch in word + \".\": # adding a special char to mark the end of a word\n",
    "            current_idx = ch_to_id[ch]\n",
    "            X.append(context)\n",
    "            Y.append(current_idx)\n",
    "            context = context[1:] + [current_idx] # sliding the context window\n",
    "            \n",
    "    # converting the dataset to tensors        \n",
    "    X = torch.tensor(X)\n",
    "    Y = torch.tensor(Y)\n",
    "    print(f\"\\nX_{str} shape: {X.shape}\")\n",
    "    print(f\"Y_{str} shape: {Y.shape}\")\n",
    "    return X, Y\n",
    "\n",
    "random.shuffle(words)\n",
    "lim1 = int(len(words) * 0.8)\n",
    "lim2 = int(len(words) * 0.9)\n",
    "\n",
    "X_train, Y_train = buid_dataset(words[:lim1], \"train\")\n",
    "X_dev, Y_dev = buid_dataset(words[lim1:lim2], \"dev\")\n",
    "X_test, Y_test = buid_dataset(words[lim2:], \"test\")"
   ]
  },
  {
   "cell_type": "code",
   "execution_count": 30,
   "metadata": {},
   "outputs": [
    {
     "name": "stdout",
     "output_type": "stream",
     "text": [
      "Number of parameters: 11697\n"
     ]
    }
   ],
   "source": [
    "# defining mlp architecture like elmo\n",
    "n_embedding = 10 # char embedding vector dimensionality\n",
    "n_hidden = 200 # no of neurons in hidden layer\n",
    "g = torch.Generator().manual_seed(42) # for reproducibility\n",
    "\n",
    "# embedding layer\n",
    "E = torch.randn(vocab_size, n_embedding, generator=g) # embedding lookup table\n",
    "# hidden layer\n",
    "W1 = torch.randn(n_embedding * block_size, n_hidden, generator=g) * (5/3)/((n_embedding * block_size)**0.5) # kaiming initialization to tackle exploding gradients and reduce initial loss\n",
    "# output layer\n",
    "W2 = torch.randn(n_hidden, vocab_size, generator=g) * 0.01 # scaling down the weights to reduce initial loss and prevent exploding gradients\n",
    "b2 = torch.randn(vocab_size, generator=g) * 0 \n",
    "\n",
    "# batch normalization params\n",
    "batch_norm_gain = torch.ones((1, n_hidden))\n",
    "batch_norm_bias = torch.zeros((1, n_hidden))\n",
    "batch_norm_mean_running = torch.zeros((1, n_hidden)) # mean buffer\n",
    "batch_norm_std_running = torch.ones((1, n_hidden)) # std buffer\n",
    "\n",
    "params = [E, W1, W2, b2]\n",
    "for p in params:\n",
    "    p.requires_grad_()\n",
    "print(f\"Number of parameters: {sum(p.nelement() for p in params)}\")\n",
    "\n",
    "# stats to track\n",
    "steps = []\n",
    "steps_loss = []"
   ]
  },
  {
   "cell_type": "code",
   "execution_count": 31,
   "metadata": {},
   "outputs": [
    {
     "name": "stderr",
     "output_type": "stream",
     "text": [
      "\u001b[32mTraining progress:   5%|▌         \u001b[0m"
     ]
    },
    {
     "name": "stdout",
     "output_type": "stream",
     "text": [
      "Epoch: \u001b[93m10000\u001b[0m | Loss: \u001b[93m1.6579\u001b[0m\n"
     ]
    },
    {
     "name": "stderr",
     "output_type": "stream",
     "text": [
      "\u001b[32mTraining progress:  10%|█         \u001b[0m"
     ]
    },
    {
     "name": "stdout",
     "output_type": "stream",
     "text": [
      "Epoch: \u001b[93m20000\u001b[0m | Loss: \u001b[93m1.6217\u001b[0m\n"
     ]
    },
    {
     "name": "stderr",
     "output_type": "stream",
     "text": [
      "\u001b[32mTraining progress:  15%|█▌        \u001b[0m"
     ]
    },
    {
     "name": "stdout",
     "output_type": "stream",
     "text": [
      "Epoch: \u001b[93m30000\u001b[0m | Loss: \u001b[93m1.7727\u001b[0m\n"
     ]
    },
    {
     "name": "stderr",
     "output_type": "stream",
     "text": [
      "\u001b[32mTraining progress:  20%|██        \u001b[0m"
     ]
    },
    {
     "name": "stdout",
     "output_type": "stream",
     "text": [
      "Epoch: \u001b[93m40000\u001b[0m | Loss: \u001b[93m1.7092\u001b[0m\n"
     ]
    },
    {
     "name": "stderr",
     "output_type": "stream",
     "text": [
      "\u001b[32mTraining progress:  25%|██▌       \u001b[0m"
     ]
    },
    {
     "name": "stdout",
     "output_type": "stream",
     "text": [
      "Epoch: \u001b[93m50000\u001b[0m | Loss: \u001b[93m1.9095\u001b[0m\n"
     ]
    },
    {
     "name": "stderr",
     "output_type": "stream",
     "text": [
      "\u001b[32mTraining progress:  30%|███       \u001b[0m"
     ]
    },
    {
     "name": "stdout",
     "output_type": "stream",
     "text": [
      "Epoch: \u001b[93m60000\u001b[0m | Loss: \u001b[93m1.9924\u001b[0m\n"
     ]
    },
    {
     "name": "stderr",
     "output_type": "stream",
     "text": [
      "\u001b[32mTraining progress:  35%|███▌      \u001b[0m"
     ]
    },
    {
     "name": "stdout",
     "output_type": "stream",
     "text": [
      "Epoch: \u001b[93m70000\u001b[0m | Loss: \u001b[93m1.9793\u001b[0m\n"
     ]
    },
    {
     "name": "stderr",
     "output_type": "stream",
     "text": [
      "\u001b[32mTraining progress:  40%|████      \u001b[0m"
     ]
    },
    {
     "name": "stdout",
     "output_type": "stream",
     "text": [
      "Epoch: \u001b[93m80000\u001b[0m | Loss: \u001b[93m1.9146\u001b[0m\n"
     ]
    },
    {
     "name": "stderr",
     "output_type": "stream",
     "text": [
      "\u001b[32mTraining progress:  45%|████▌     \u001b[0m"
     ]
    },
    {
     "name": "stdout",
     "output_type": "stream",
     "text": [
      "Epoch: \u001b[93m90000\u001b[0m | Loss: \u001b[93m2.1068\u001b[0m\n"
     ]
    },
    {
     "name": "stderr",
     "output_type": "stream",
     "text": [
      "\u001b[32mTraining progress:  50%|█████     \u001b[0m"
     ]
    },
    {
     "name": "stdout",
     "output_type": "stream",
     "text": [
      "Epoch: \u001b[93m100000\u001b[0m | Loss: \u001b[93m2.2423\u001b[0m\n"
     ]
    },
    {
     "name": "stderr",
     "output_type": "stream",
     "text": [
      "\u001b[32mTraining progress:  55%|█████▌    \u001b[0m"
     ]
    },
    {
     "name": "stdout",
     "output_type": "stream",
     "text": [
      "Epoch: \u001b[93m110000\u001b[0m | Loss: \u001b[93m1.8748\u001b[0m\n"
     ]
    },
    {
     "name": "stderr",
     "output_type": "stream",
     "text": [
      "\u001b[32mTraining progress:  60%|██████    \u001b[0m"
     ]
    },
    {
     "name": "stdout",
     "output_type": "stream",
     "text": [
      "Epoch: \u001b[93m120000\u001b[0m | Loss: \u001b[93m2.0951\u001b[0m\n"
     ]
    },
    {
     "name": "stderr",
     "output_type": "stream",
     "text": [
      "\u001b[32mTraining progress:  65%|██████▌   \u001b[0m"
     ]
    },
    {
     "name": "stdout",
     "output_type": "stream",
     "text": [
      "Epoch: \u001b[93m130000\u001b[0m | Loss: \u001b[93m2.0833\u001b[0m\n"
     ]
    },
    {
     "name": "stderr",
     "output_type": "stream",
     "text": [
      "\u001b[32mTraining progress:  70%|███████   \u001b[0m"
     ]
    },
    {
     "name": "stdout",
     "output_type": "stream",
     "text": [
      "Epoch: \u001b[93m140000\u001b[0m | Loss: \u001b[93m1.9635\u001b[0m\n"
     ]
    },
    {
     "name": "stderr",
     "output_type": "stream",
     "text": [
      "\u001b[32mTraining progress:  75%|███████▌  \u001b[0m"
     ]
    },
    {
     "name": "stdout",
     "output_type": "stream",
     "text": [
      "Epoch: \u001b[93m150000\u001b[0m | Loss: \u001b[93m2.2413\u001b[0m\n"
     ]
    },
    {
     "name": "stderr",
     "output_type": "stream",
     "text": [
      "\u001b[32mTraining progress:  80%|████████  \u001b[0m"
     ]
    },
    {
     "name": "stdout",
     "output_type": "stream",
     "text": [
      "Epoch: \u001b[93m160000\u001b[0m | Loss: \u001b[93m1.7615\u001b[0m\n"
     ]
    },
    {
     "name": "stderr",
     "output_type": "stream",
     "text": [
      "\u001b[32mTraining progress:  85%|████████▌ \u001b[0m"
     ]
    },
    {
     "name": "stdout",
     "output_type": "stream",
     "text": [
      "Epoch: \u001b[93m170000\u001b[0m | Loss: \u001b[93m2.2495\u001b[0m\n"
     ]
    },
    {
     "name": "stderr",
     "output_type": "stream",
     "text": [
      "\u001b[32mTraining progress:  90%|█████████ \u001b[0m"
     ]
    },
    {
     "name": "stdout",
     "output_type": "stream",
     "text": [
      "Epoch: \u001b[93m180000\u001b[0m | Loss: \u001b[93m2.1934\u001b[0m\n"
     ]
    },
    {
     "name": "stderr",
     "output_type": "stream",
     "text": [
      "\u001b[32mTraining progress:  95%|█████████▌\u001b[0m"
     ]
    },
    {
     "name": "stdout",
     "output_type": "stream",
     "text": [
      "Epoch: \u001b[93m190000\u001b[0m | Loss: \u001b[93m1.8961\u001b[0m\n"
     ]
    },
    {
     "name": "stderr",
     "output_type": "stream",
     "text": [
      "\u001b[32mTraining progress: 100%|██████████\u001b[0m"
     ]
    },
    {
     "name": "stdout",
     "output_type": "stream",
     "text": [
      "Epoch: \u001b[93m200000\u001b[0m | Loss: \u001b[93m2.3686\u001b[0m\n",
      "Final loss: 2.3686139583587646\n"
     ]
    },
    {
     "name": "stderr",
     "output_type": "stream",
     "text": [
      "\n"
     ]
    }
   ],
   "source": [
    "# optimization\n",
    "epochs = 200000\n",
    "batch_size = 32\n",
    "\n",
    "for epoch in tqdm(range(epochs), desc=\"\", bar_format=\"\\033[32m{l_bar}{bar}\\033[0m\"):\n",
    "    # constructing mini batches\n",
    "    idx = torch.randint(0, X_train.shape[0], (batch_size,))\n",
    "    mini_X, mini_Y = X_train[idx], Y_train[idx]\n",
    "    \n",
    "    # forward pass\n",
    "    embeddings = E[mini_X] # embed cahr in vectors\n",
    "    embcat = embeddings.view(embeddings.shape[0], -1) # concatenate the vectors\n",
    "    pre_hidd_out = (embcat @ W1) # hidden layer output without activation\n",
    "    \n",
    "    # BATCH NORMALIZATION LAYER\n",
    "    # -----------------------------------------------------------------\n",
    "    batch_norm_mean_i = pre_hidd_out.mean(0, keepdim=True)\n",
    "    batch_norm_std_i = pre_hidd_out.std(0, keepdim=True)\n",
    "    pre_hidd_out = batch_norm_gain * (pre_hidd_out - batch_norm_mean_i) / batch_norm_std_i + batch_norm_bias\n",
    "    with torch.no_grad():\n",
    "        batch_norm_mean_running = 0.999 * batch_norm_mean_running + 0.001 * batch_norm_mean_i\n",
    "        batch_norm_std_running = 0.999 * batch_norm_std_running + 0.001 * batch_norm_std_i\n",
    "    # -----------------------------------------------------------------\n",
    "    \n",
    "    # NON LINEARITY\n",
    "    hidd_out = torch.tanh(pre_hidd_out)\n",
    "    logits = (hidd_out @ W2 + b2) # output layer\n",
    "    loss = F.cross_entropy(logits, mini_Y) # loss\n",
    "        \n",
    "    # backward pass\n",
    "    for p in params:\n",
    "        p.grad = None\n",
    "    loss.backward()\n",
    "    \n",
    "    # params update\n",
    "    lr = 0.1 if epoch < 100000 else 0.001 # learning rate decay\n",
    "    for p in params:\n",
    "        p.data -= lr * p.grad\n",
    "    \n",
    "    # stats\n",
    "    if (epoch + 1) % 10000 == 0:\n",
    "        print(f\"Epoch: \\033[93m{epoch + 1}\\033[0m | Loss: \\033[93m{loss.item():.4f}\\033[0m\")\n",
    "    steps.append(epoch + 1)\n",
    "    steps_loss.append(loss.log10().item())\n",
    "print(f\"Final loss: {loss}\")"
   ]
  },
  {
   "cell_type": "code",
   "execution_count": 32,
   "metadata": {},
   "outputs": [
    {
     "data": {
      "text/plain": [
       "[<matplotlib.lines.Line2D at 0x1ab104332b0>]"
      ]
     },
     "execution_count": 32,
     "metadata": {},
     "output_type": "execute_result"
    },
    {
     "data": {
      "image/png": "[encoded data removed]",
      "text/plain": [
       "<Figure size 640x480 with 1 Axes>"
      ]
     },
     "metadata": {},
     "output_type": "display_data"
    }
   ],
   "source": [
    "# plotting loss\n",
    "plt.plot(steps, steps_loss)"
   ]
  },
  {
   "cell_type": "code",
   "execution_count": 33,
   "metadata": {},
   "outputs": [
    {
     "name": "stdout",
     "output_type": "stream",
     "text": [
      "Train loss: 1.9131\n",
      "Val loss: 1.9271\n"
     ]
    }
   ],
   "source": [
    "# training and validation losses\n",
    "@torch.no_grad() # decorator to disable gradient calculation\n",
    "def split_loss(split):\n",
    "    x, y = {\n",
    "        \"train\": (X_train, Y_train),\n",
    "        \"val\": (X_dev, Y_dev),\n",
    "        \"test\": (X_test, Y_test)\n",
    "    }[split]\n",
    "    \n",
    "    embeddings = E[x]\n",
    "    embcat = embeddings.view(embeddings.shape[0], -1)\n",
    "    pre_hidd_out = embcat @ W1\n",
    "    pre_hidd_out = batch_norm_gain * (pre_hidd_out - batch_norm_mean_running) / batch_norm_std_running + batch_norm_bias\n",
    "    hidd_out = torch.tanh(pre_hidd_out)\n",
    "    logits = hidd_out @ W2 + b2\n",
    "    loss = F.cross_entropy(logits, y)\n",
    "    \n",
    "    return loss.item()\n",
    "\n",
    "print(f\"Train loss: {split_loss('train'):.4f}\")\n",
    "print(f\"Val loss: {split_loss('val'):.4f}\")"
   ]
  }
 ],
 "metadata": {
  "kernelspec": {
   "display_name": "Python 3",
   "language": "python",
   "name": "python3"
  },
  "language_info": {
   "codemirror_mode": {
    "name": "ipython",
    "version": 3
   },
   "file_extension": ".py",
   "mimetype": "text/x-python",
   "name": "python",
   "nbconvert_exporter": "python",
   "pygments_lexer": "ipython3",
   "version": "3.9.9"
  }
 },
 "nbformat": 4,
 "nbformat_minor": 2
}
