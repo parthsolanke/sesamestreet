{
 "cells": [
  {
   "cell_type": "code",
   "execution_count": 1,
   "metadata": {},
   "outputs": [],
   "source": [
    "import torch\n",
    "import random \n",
    "import torch.nn.functional as F\n",
    "import matplotlib.pyplot as plt\n",
    "%matplotlib inline"
   ]
  },
  {
   "cell_type": "code",
   "execution_count": 2,
   "metadata": {},
   "outputs": [
    {
     "name": "stdout",
     "output_type": "stream",
     "text": [
      "Number of words: 55272\n",
      "first 5 words: ['parish', 'manhi', 'akshaykeerti', 'suran', 'tomali']\n"
     ]
    }
   ],
   "source": [
    "# loading dataset\n",
    "words = open(r\"data\\names.txt\").read().splitlines()\n",
    "print(f\"Number of words: {len(words)}\")\n",
    "print(f\"first 5 words: {words[:5]}\")"
   ]
  },
  {
   "cell_type": "code",
   "execution_count": 5,
   "metadata": {},
   "outputs": [
    {
     "name": "stdout",
     "output_type": "stream",
     "text": [
      "Charecters to id: {'a': 1, 'b': 2, 'c': 3, 'd': 4, 'e': 5, 'f': 6, 'g': 7, 'h': 8, 'i': 9, 'j': 10, 'k': 11, 'l': 12, 'm': 13, 'n': 14, 'o': 15, 'p': 16, 'q': 17, 'r': 18, 's': 19, 't': 20, 'u': 21, 'v': 22, 'w': 23, 'x': 24, 'y': 25, 'z': 26, '.': 0}\n",
      "Id to charecters: {1: 'a', 2: 'b', 3: 'c', 4: 'd', 5: 'e', 6: 'f', 7: 'g', 8: 'h', 9: 'i', 10: 'j', 11: 'k', 12: 'l', 13: 'm', 14: 'n', 15: 'o', 16: 'p', 17: 'q', 18: 'r', 19: 's', 20: 't', 21: 'u', 22: 'v', 23: 'w', 24: 'x', 25: 'y', 26: 'z', 0: '.'}\n",
      "Vocab size: 27\n"
     ]
    }
   ],
   "source": [
    "# creating a look up table (dictionary to map int to characters and vice versa)\n",
    "chars = sorted(list(set(''.join(words))))\n",
    "ch_to_id = {ch:i+1 for i, ch in enumerate(chars)}\n",
    "ch_to_id['.'] = 0 # special char to mark ending and starting of a word\n",
    "vocab_size = len(ch_to_id)\n",
    "id_to_ch = {i:ch for ch, i in ch_to_id.items()}\n",
    "print(f\"Charecters to id: {ch_to_id}\")\n",
    "print(f\"Id to charecters: {id_to_ch}\")\n",
    "print(f\"Vocab size: {vocab_size}\")"
   ]
  },
  {
   "cell_type": "code",
   "execution_count": 4,
   "metadata": {},
   "outputs": [
    {
     "name": "stdout",
     "output_type": "stream",
     "text": [
      "\n",
      "X_train shape: torch.Size([401463, 3])\n",
      "Y_train shape: torch.Size([401463])\n",
      "\n",
      "X_dev shape: torch.Size([50269, 3])\n",
      "Y_dev shape: torch.Size([50269])\n",
      "\n",
      "X_test shape: torch.Size([50235, 3])\n",
      "Y_test shape: torch.Size([50235])\n"
     ]
    }
   ],
   "source": [
    "# building our datasets: training split(80%), dev/validation split(10%) and test split(10%)\n",
    "\n",
    "block_size = 3 # context length: how many charecters to consider to predict the next charecter\n",
    "def buid_dataset(words, str):\n",
    "    \n",
    "    X, Y = [], [] # X: context, Y: target\n",
    "    \n",
    "    for word in words:\n",
    "        context = [0] * block_size\n",
    "        for ch in word + \".\": # adding a special char to mark the end of a word\n",
    "            current_idx = ch_to_id[ch]\n",
    "            X.append(context)\n",
    "            Y.append(current_idx)\n",
    "            context = context[1:] + [current_idx] # sliding the context window\n",
    "            \n",
    "    # converting the dataset to tensors        \n",
    "    X = torch.tensor(X)\n",
    "    Y = torch.tensor(Y)\n",
    "    print(f\"\\nX_{str} shape: {X.shape}\")\n",
    "    print(f\"Y_{str} shape: {Y.shape}\")\n",
    "    return X, Y\n",
    "\n",
    "random.shuffle(words)\n",
    "lim1 = int(len(words) * 0.8)\n",
    "lim2 = int(len(words) * 0.9)\n",
    "\n",
    "X_train, Y_train = buid_dataset(words[:lim1], \"train\")\n",
    "X_dev, Y_dev = buid_dataset(words[lim1:lim2], \"dev\")\n",
    "X_test, Y_test = buid_dataset(words[lim2:], \"test\")"
   ]
  },
  {
   "cell_type": "code",
   "execution_count": 172,
   "metadata": {},
   "outputs": [
    {
     "name": "stdout",
     "output_type": "stream",
     "text": [
      "Number of parameters: 11897\n"
     ]
    }
   ],
   "source": [
    "# defining mlp architecture like elmo\n",
    "n_embedding = 10 # char embedding vector dimensionality\n",
    "n_hidden = 200 # no of neurons in hidden layer\n",
    "g = torch.Generator().manual_seed(42) # for reproducibility\n",
    "\n",
    "E = torch.randn(vocab_size, n_embedding, generator=g) # embedding lookup table\n",
    "# hidden layer\n",
    "W1 = torch.randn(n_embedding * block_size, n_hidden, generator=g) * (5/3)/((n_embedding * block_size)**0.5) # kaiming initialization to tackle exploding gradients and reduce initial loss\n",
    "b1 = torch.randn(n_hidden, generator=g) * 0.01 # to tackle vanishing gradients\n",
    "# output layer\n",
    "W2 = torch.randn(n_hidden, vocab_size, generator=g) * 0.01 # scaling down the weights to reduce initial loss and prevent exploding gradients\n",
    "b2 = torch.randn(vocab_size, generator=g) * 0 \n",
    "\n",
    "params = [E, W1, b1, W2, b2]\n",
    "for p in params:\n",
    "    p.requires_grad_()\n",
    "print(f\"Number of parameters: {sum(p.nelement() for p in params)}\")\n",
    "\n",
    "# stats to track\n",
    "steps = []\n",
    "steps_loss = []"
   ]
  },
  {
   "cell_type": "code",
   "execution_count": 173,
   "metadata": {},
   "outputs": [
    {
     "name": "stdout",
     "output_type": "stream",
     "text": [
      "Epoch: 0 | Loss: 3.2670\n",
      "Epoch: 10000 | Loss: 1.8980\n",
      "Epoch: 20000 | Loss: 1.9879\n",
      "Epoch: 30000 | Loss: 1.8499\n",
      "Epoch: 40000 | Loss: 1.8988\n",
      "Epoch: 50000 | Loss: 1.6608\n",
      "Epoch: 60000 | Loss: 1.8922\n",
      "Epoch: 70000 | Loss: 2.1343\n",
      "Epoch: 80000 | Loss: 2.2953\n",
      "Epoch: 90000 | Loss: 2.1002\n",
      "Epoch: 100000 | Loss: 2.1962\n",
      "Epoch: 110000 | Loss: 2.1836\n",
      "Epoch: 120000 | Loss: 2.0534\n",
      "Epoch: 130000 | Loss: 1.7373\n",
      "Epoch: 140000 | Loss: 1.7412\n",
      "Epoch: 150000 | Loss: 1.6751\n",
      "Epoch: 160000 | Loss: 2.0311\n",
      "Epoch: 170000 | Loss: 1.6582\n",
      "Epoch: 180000 | Loss: 2.2614\n",
      "Epoch: 190000 | Loss: 1.5831\n",
      "Final loss: 1.9253299236297607\n"
     ]
    }
   ],
   "source": [
    "# optimization\n",
    "epochs = 200000\n",
    "batch_size = 32\n",
    "\n",
    "for epoch in range(epochs):\n",
    "    # constructing mini batches\n",
    "    idx = torch.randint(0, X_train.shape[0], (batch_size,))\n",
    "    mini_X, mini_Y = X_train[idx], Y_train[idx]\n",
    "    \n",
    "    # forward pass\n",
    "    embeddings = E[mini_X] # embed cahr in vectors\n",
    "    embcat = embeddings.view(embeddings.shape[0], -1) # concatenate the vectors\n",
    "    pre_hidd_out = (embcat @ W1 + b1) # hidden layer output without activation\n",
    "    hidd_out = torch.tanh(pre_hidd_out)\n",
    "    logits = (hidd_out @ W2 + b2) # output layer\n",
    "    loss = F.cross_entropy(logits, mini_Y) # loss\n",
    "        \n",
    "    # backward pass\n",
    "    for p in params:\n",
    "        p.grad = None\n",
    "    loss.backward()\n",
    "    \n",
    "    # params update\n",
    "    lr = 0.1 if epoch < 100000 else 0.001 # learning rate decay\n",
    "    for p in params:\n",
    "        p.data -= lr * p.grad\n",
    "    \n",
    "    # stats\n",
    "    if epoch % 10000 == 0:\n",
    "        print(f\"Epoch: {epoch} | Loss: {loss.item():.4f}\")\n",
    "    steps.append(epoch+1)\n",
    "    steps_loss.append(loss.log10().item())\n",
    "print(f\"Final loss: {loss}\")"
   ]
  },
  {
   "cell_type": "code",
   "execution_count": 174,
   "metadata": {},
   "outputs": [
    {
     "data": {
      "text/plain": [
       "[<matplotlib.lines.Line2D at 0x16a8938b160>]"
      ]
     },
     "execution_count": 174,
     "metadata": {},
     "output_type": "execute_result"
    },
    {
     "data": {
      "image/png": "[encoded data removed]",
      "text/plain": [
       "<Figure size 640x480 with 1 Axes>"
      ]
     },
     "metadata": {},
     "output_type": "display_data"
    }
   ],
   "source": [
    "# plotting loss\n",
    "plt.plot(steps, steps_loss)"
   ]
  },
  {
   "cell_type": "code",
   "execution_count": 175,
   "metadata": {},
   "outputs": [
    {
     "name": "stdout",
     "output_type": "stream",
     "text": [
      "Train loss: 1.8941\n",
      "Val loss: 1.9086\n"
     ]
    }
   ],
   "source": [
    "# training and validation losses\n",
    "@torch.no_grad() # decorator to disable gradient calculation\n",
    "\n",
    "def split_loss(split):\n",
    "    x, y = {\n",
    "        \"train\": (X_train, Y_train),\n",
    "        \"val\": (X_dev, Y_dev),\n",
    "        \"test\": (X_test, Y_test)\n",
    "    }[split]\n",
    "    \n",
    "    embeddings = E[x]\n",
    "    embcat = embeddings.view(embeddings.shape[0], -1)\n",
    "    pre_hidd_out = embcat @ W1 + b1\n",
    "    hidd_out = torch.tanh(pre_hidd_out)\n",
    "    logits = hidd_out @ W2 + b2\n",
    "    loss = F.cross_entropy(logits, y)\n",
    "    \n",
    "    return loss.item()\n",
    "\n",
    "print(f\"Train loss: {split_loss('train'):.4f}\")\n",
    "print(f\"Val loss: {split_loss('val'):.4f}\")"
   ]
  },
  {
   "cell_type": "code",
   "execution_count": 176,
   "metadata": {},
   "outputs": [
    {
     "data": {
      "text/plain": [
       "['chita',\n",
       " 'priya',\n",
       " 'hynthea',\n",
       " 'tha',\n",
       " 'aayenthikraki',\n",
       " 'amaleya',\n",
       " 'shaniraanima',\n",
       " 'maabhi',\n",
       " 'hian',\n",
       " 'thra',\n",
       " 'nivaanibhagavini',\n",
       " 'mushen',\n",
       " 'aarsha',\n",
       " 'mohita',\n",
       " 'indra',\n",
       " 'bha',\n",
       " 'prashana',\n",
       " 'gundir',\n",
       " 'prathushaguvilojanika',\n",
       " 'raven']"
      ]
     },
     "execution_count": 176,
     "metadata": {},
     "output_type": "execute_result"
    }
   ],
   "source": [
    "# sampling from the model\n",
    "g = torch.Generator()\n",
    "predicted_names = []\n",
    "block_size = 3\n",
    "\n",
    "for _ in range(20):\n",
    "    name = \"\"\n",
    "    context = [0] * block_size\n",
    "    while True:\n",
    "        embeddings = E[torch.tensor([context])] # (1, 3, 10)\n",
    "        hidd_out = torch.tanh(embeddings.view(1, -1) @ W1 + b1)\n",
    "        logits = hidd_out @ W2 + b2\n",
    "        probs = F.softmax(logits, dim=1)\n",
    "        \n",
    "        # sampling from the distribution\n",
    "        next_char = torch.multinomial(probs, 1, generator=g).item()\n",
    "        # shifting the context window\n",
    "        context = context[1:] + [next_char]\n",
    "        \n",
    "        if next_char != 0:\n",
    "            name += id_to_ch[next_char]\n",
    "        else:\n",
    "            predicted_names.append(name)\n",
    "            break\n",
    "predicted_names"
   ]
  },
  {
   "cell_type": "code",
   "execution_count": null,
   "metadata": {},
   "outputs": [],
   "source": []
  }
 ],
 "metadata": {
  "kernelspec": {
   "display_name": "Python 3",
   "language": "python",
   "name": "python3"
  },
  "language_info": {
   "codemirror_mode": {
    "name": "ipython",
    "version": 3
   },
   "file_extension": ".py",
   "mimetype": "text/x-python",
   "name": "python",
   "nbconvert_exporter": "python",
   "pygments_lexer": "ipython3",
   "version": "3.9.9"
  }
 },
 "nbformat": 4,
 "nbformat_minor": 2
}
