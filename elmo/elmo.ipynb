{
 "cells": [
  {
   "cell_type": "code",
   "execution_count": 40,
   "metadata": {},
   "outputs": [],
   "source": [
    "import torch\n",
    "import random \n",
    "import torch.nn.functional as F\n",
    "import matplotlib.pyplot as plt\n",
    "%matplotlib inline"
   ]
  },
  {
   "cell_type": "code",
   "execution_count": 17,
   "metadata": {},
   "outputs": [
    {
     "name": "stdout",
     "output_type": "stream",
     "text": [
      "Number of words: 55272\n",
      "first 5 words: ['parish', 'manhi', 'akshaykeerti', 'suran', 'tomali']\n"
     ]
    }
   ],
   "source": [
    "# loading dataset\n",
    "words = open(r\"data\\names.txt\").read().splitlines()\n",
    "print(f\"Number of words: {len(words)}\")\n",
    "print(f\"first 5 words: {words[:5]}\")"
   ]
  },
  {
   "cell_type": "code",
   "execution_count": 18,
   "metadata": {},
   "outputs": [
    {
     "name": "stdout",
     "output_type": "stream",
     "text": [
      "Charecters to id: {'a': 1, 'b': 2, 'c': 3, 'd': 4, 'e': 5, 'f': 6, 'g': 7, 'h': 8, 'i': 9, 'j': 10, 'k': 11, 'l': 12, 'm': 13, 'n': 14, 'o': 15, 'p': 16, 'q': 17, 'r': 18, 's': 19, 't': 20, 'u': 21, 'v': 22, 'w': 23, 'x': 24, 'y': 25, 'z': 26, '.': 0}\n",
      "Id to charecters: {1: 'a', 2: 'b', 3: 'c', 4: 'd', 5: 'e', 6: 'f', 7: 'g', 8: 'h', 9: 'i', 10: 'j', 11: 'k', 12: 'l', 13: 'm', 14: 'n', 15: 'o', 16: 'p', 17: 'q', 18: 'r', 19: 's', 20: 't', 21: 'u', 22: 'v', 23: 'w', 24: 'x', 25: 'y', 26: 'z', 0: '.'}\n"
     ]
    }
   ],
   "source": [
    "# creating a look up table (dictionary to map int to characters and vice versa)\n",
    "chars = sorted(list(set(''.join(words))))\n",
    "ch_to_id = {ch:i+1 for i, ch in enumerate(chars)}\n",
    "ch_to_id['.'] = 0 # special char to mark ending and starting of a word\n",
    "\n",
    "id_to_ch = {i:ch for ch, i in ch_to_id.items()}\n",
    "print(f\"Charecters to id: {ch_to_id}\")\n",
    "print(f\"Id to charecters: {id_to_ch}\")"
   ]
  },
  {
   "cell_type": "code",
   "execution_count": 77,
   "metadata": {},
   "outputs": [
    {
     "name": "stdout",
     "output_type": "stream",
     "text": [
      "\n",
      "X_train shape: torch.Size([401485, 3])\n",
      "Y_train shape: torch.Size([401485])\n",
      "\n",
      "X_dev shape: torch.Size([50160, 3])\n",
      "Y_dev shape: torch.Size([50160])\n",
      "\n",
      "X_test shape: torch.Size([50322, 3])\n",
      "Y_test shape: torch.Size([50322])\n"
     ]
    }
   ],
   "source": [
    "# building our datasets: training split(80%), dev/validation split(10%) and test split(10%)\n",
    "# training split to train parameters\n",
    "# dev split to tune hyperparameters\n",
    "# test split to evaluate the model\n",
    "\n",
    "block_size = 3 # context length: how many charecters to consider to predict the next charecter\n",
    "def buid_dataset(words, str):\n",
    "    \n",
    "    X, Y = [], [] # X: context, Y: target\n",
    "    \n",
    "    for word in words:\n",
    "        context = [0] * block_size\n",
    "        for ch in word + \".\": # adding a special char to mark the end of a word\n",
    "            current_idx = ch_to_id[ch]\n",
    "            X.append(context)\n",
    "            Y.append(current_idx)\n",
    "            context = context[1:] + [current_idx] # sliding the context window\n",
    "            \n",
    "    # converting the dataset to tensors        \n",
    "    X = torch.tensor(X)\n",
    "    Y = torch.tensor(Y)\n",
    "    print(f\"\\nX_{str} shape: {X.shape}\")\n",
    "    print(f\"Y_{str} shape: {Y.shape}\")\n",
    "    return X, Y\n",
    "\n",
    "random.shuffle(words)\n",
    "lim1 = int(len(words) * 0.8)\n",
    "lim2 = int(len(words) * 0.9)\n",
    "\n",
    "X_train, Y_train = buid_dataset(words[:lim1], \"train\")\n",
    "X_dev, Y_dev = buid_dataset(words[lim1:lim2], \"dev\")\n",
    "X_test, Y_test = buid_dataset(words[lim2:], \"test\")"
   ]
  },
  {
   "cell_type": "code",
   "execution_count": 78,
   "metadata": {},
   "outputs": [
    {
     "name": "stdout",
     "output_type": "stream",
     "text": [
      "X_train shape: torch.Size([401485, 3]) & Y_train shape: torch.Size([401485])\n",
      "X_train dtype: torch.int64 & Y_train dtype: torch.int64\n",
      "X_train[:5]: tensor([[ 0,  0,  0],\n",
      "        [ 0,  0, 19],\n",
      "        [ 0, 19,  1],\n",
      "        [19,  1,  1],\n",
      "        [ 1,  1, 25]])\n",
      "Y_train[:5]: tensor([19,  1,  1, 25,  1])\n"
     ]
    }
   ],
   "source": [
    "# dataset insights\n",
    "print(f\"X_train shape: {X_train.shape} & Y_train shape: {Y_train.shape}\")\n",
    "print(f\"X_train dtype: {X_train.dtype} & Y_train dtype: {Y_train.dtype}\")\n",
    "print(f\"X_train[:5]: {X_train[:5]}\")\n",
    "print(f\"Y_train[:5]: {Y_train[:5]}\")"
   ]
  },
  {
   "cell_type": "code",
   "execution_count": 134,
   "metadata": {},
   "outputs": [],
   "source": [
    "# embedding our 27 charecters into a 10 dimentional space hence every charecter will be represented by a 10 dimentional vector(embedding)\n",
    "# look up table for embedding\n",
    "C = torch.randn((27, 10))\n",
    "embeddings = C[X_train] # magic fo pytorch indexing to simultaneously embed all individual chars from X"
   ]
  },
  {
   "cell_type": "code",
   "execution_count": 135,
   "metadata": {},
   "outputs": [
    {
     "name": "stdout",
     "output_type": "stream",
     "text": [
      "First 5 embeddings in C: tensor([[ 0.9977,  1.6354,  1.0069,  0.0662, -1.6079, -0.5990, -0.9789, -0.3410,\n",
      "         -0.6607, -0.5154],\n",
      "        [-1.2007, -1.2290, -0.1421, -1.2987, -0.2009, -0.1546,  0.4579, -0.4722,\n",
      "         -0.2444,  2.3007],\n",
      "        [ 0.8112, -2.0365, -1.4293,  1.2816, -2.0307, -0.8626, -0.0788, -0.4361,\n",
      "         -0.4600,  0.1418],\n",
      "        [ 1.1363, -0.2184, -1.6287,  0.1124,  1.0585,  0.6096,  0.1990, -0.1760,\n",
      "         -0.2332,  1.0673],\n",
      "        [-0.1152, -1.2596,  0.6201,  0.3687, -0.6985, -0.9306,  0.1795,  2.2529,\n",
      "         -0.8909,  0.9076]])\n",
      "\n",
      "Shape of embeddings: torch.Size([401485, 3, 10])\n",
      "\n",
      "First 5 embeddings in X: tensor([[[ 0.9977,  1.6354,  1.0069,  0.0662, -1.6079, -0.5990, -0.9789,\n",
      "          -0.3410, -0.6607, -0.5154],\n",
      "         [ 0.9977,  1.6354,  1.0069,  0.0662, -1.6079, -0.5990, -0.9789,\n",
      "          -0.3410, -0.6607, -0.5154],\n",
      "         [ 0.9977,  1.6354,  1.0069,  0.0662, -1.6079, -0.5990, -0.9789,\n",
      "          -0.3410, -0.6607, -0.5154]],\n",
      "\n",
      "        [[ 0.9977,  1.6354,  1.0069,  0.0662, -1.6079, -0.5990, -0.9789,\n",
      "          -0.3410, -0.6607, -0.5154],\n",
      "         [ 0.9977,  1.6354,  1.0069,  0.0662, -1.6079, -0.5990, -0.9789,\n",
      "          -0.3410, -0.6607, -0.5154],\n",
      "         [ 0.3235,  0.3977, -0.6048, -0.4971,  1.1230, -1.3382,  1.5429,\n",
      "          -0.9322, -0.8158,  2.0418]],\n",
      "\n",
      "        [[ 0.9977,  1.6354,  1.0069,  0.0662, -1.6079, -0.5990, -0.9789,\n",
      "          -0.3410, -0.6607, -0.5154],\n",
      "         [ 0.3235,  0.3977, -0.6048, -0.4971,  1.1230, -1.3382,  1.5429,\n",
      "          -0.9322, -0.8158,  2.0418],\n",
      "         [-1.2007, -1.2290, -0.1421, -1.2987, -0.2009, -0.1546,  0.4579,\n",
      "          -0.4722, -0.2444,  2.3007]],\n",
      "\n",
      "        [[ 0.3235,  0.3977, -0.6048, -0.4971,  1.1230, -1.3382,  1.5429,\n",
      "          -0.9322, -0.8158,  2.0418],\n",
      "         [-1.2007, -1.2290, -0.1421, -1.2987, -0.2009, -0.1546,  0.4579,\n",
      "          -0.4722, -0.2444,  2.3007],\n",
      "         [-1.2007, -1.2290, -0.1421, -1.2987, -0.2009, -0.1546,  0.4579,\n",
      "          -0.4722, -0.2444,  2.3007]],\n",
      "\n",
      "        [[-1.2007, -1.2290, -0.1421, -1.2987, -0.2009, -0.1546,  0.4579,\n",
      "          -0.4722, -0.2444,  2.3007],\n",
      "         [-1.2007, -1.2290, -0.1421, -1.2987, -0.2009, -0.1546,  0.4579,\n",
      "          -0.4722, -0.2444,  2.3007],\n",
      "         [-0.6154,  0.4261,  0.1010, -0.3495,  0.0089,  0.2401,  0.8047,\n",
      "           1.9072, -0.9489,  1.8605]]])\n"
     ]
    }
   ],
   "source": [
    "print(f\"First 5 embeddings in C: {C[:5]}\")\n",
    "print(f\"\\nShape of embeddings: {embeddings.shape}\")\n",
    "print(f\"\\nFirst 5 embeddings in X: {embeddings[:5]}\")"
   ]
  },
  {
   "cell_type": "code",
   "execution_count": 137,
   "metadata": {},
   "outputs": [
    {
     "name": "stdout",
     "output_type": "stream",
     "text": [
      "Shape of hidden layer output: torch.Size([401485, 200])\n"
     ]
    },
    {
     "data": {
      "text/plain": [
       "tensor([[ 0.9894,  0.9569,  1.0000,  ..., -0.9999, -1.0000, -0.9999],\n",
       "        [ 1.0000, -1.0000,  0.9989,  ..., -0.9271, -0.9885, -0.9979],\n",
       "        [ 0.9860, -0.9999,  0.8633,  ..., -1.0000,  0.8138, -1.0000],\n",
       "        ...,\n",
       "        [ 1.0000, -0.9940,  1.0000,  ...,  0.9883,  0.8922, -0.9827],\n",
       "        [ 0.9964,  0.9993, -0.9923,  ...,  0.9996, -1.0000,  1.0000],\n",
       "        [ 1.0000,  0.9900,  1.0000,  ..., -0.9994,  1.0000,  0.3707]])"
      ]
     },
     "execution_count": 137,
     "metadata": {},
     "output_type": "execute_result"
    }
   ],
   "source": [
    "# constructing our only hidden layer\n",
    "# the number of inputs is 3 (block size) * 2 (embedding dimention) = 6 and 200 is the number of neurons in the hidden layer\n",
    "W1 = torch.randn((30, 200))\n",
    "b1 = torch.randn((200))\n",
    "\n",
    "# in order to carry out embedding @ W1 + b1 we need to concatenate the embeddings along the embedding dimention\n",
    "# can be done using using cat() or view() or reshape() methods:\n",
    "# method 1: using cat()\n",
    "# embeddings = torch.cat(torch.unbind(embeddings, dim=1), dim=1) # here the unbind method splits the embeddings along the embedding dimention\n",
    "# method 2: using view() - most efficient way as it doesn't create a copy of the tensor\n",
    "\n",
    "# hidden states with tanh non-linearity\n",
    "hidden_layer_output = torch.tanh((embeddings.view(-1, 30) @ W1) + b1)\n",
    "\n",
    "print(f\"Shape of hidden layer output: {hidden_layer_output.shape}\")\n",
    "hidden_layer_output"
   ]
  },
  {
   "cell_type": "code",
   "execution_count": 138,
   "metadata": {},
   "outputs": [
    {
     "name": "stdout",
     "output_type": "stream",
     "text": [
      "Output shape: torch.Size([401485, 27])\n"
     ]
    },
    {
     "data": {
      "text/plain": [
       "tensor([[ -4.5605,  -0.6440,  -5.4997,  ...,   3.2886,   1.5744,  -7.6374],\n",
       "        [-10.0704, -16.3868, -21.8381,  ...,  14.4929,  -3.9929,  -7.9951],\n",
       "        [-22.2669,  -4.5684,   1.2623,  ..., -22.7771,  -5.9942,  -6.1266],\n",
       "        ...,\n",
       "        [  3.8155,   1.1894,  18.9159,  ...,   1.9546, -17.6228,  -7.0846],\n",
       "        [ -8.6578,   2.3486, -17.6796,  ...,   4.7250, -19.1138,   7.3033],\n",
       "        [  9.4232,  11.0050,   9.1159,  ...,   9.8825,  -5.4808,   4.1563]])"
      ]
     },
     "execution_count": 138,
     "metadata": {},
     "output_type": "execute_result"
    }
   ],
   "source": [
    "# constructing the output layer\n",
    "W2 = torch.randn((200, 27)) # 27 is the number of charecters in our dataset and 100 is input to the output layer\n",
    "b2 = torch.randn((27))\n",
    "\n",
    "# output of the output layer\n",
    "logits = (hidden_layer_output @ W2) + b2\n",
    "\n",
    "print(f\"Output shape: {logits.shape}\")\n",
    "logits"
   ]
  },
  {
   "cell_type": "code",
   "execution_count": 139,
   "metadata": {},
   "outputs": [
    {
     "name": "stdout",
     "output_type": "stream",
     "text": [
      "Probabilities shape: torch.Size([401485, 27])\n"
     ]
    },
    {
     "data": {
      "text/plain": [
       "tensor([[1.4409e-14, 7.2366e-13, 5.6329e-15,  ..., 3.6936e-11, 6.6524e-12,\n",
       "         6.6428e-16],\n",
       "        [1.7879e-16, 3.2296e-19, 1.3857e-21,  ..., 8.3178e-06, 7.7939e-14,\n",
       "         1.4243e-15],\n",
       "        [1.6325e-22, 7.9287e-15, 2.7004e-12,  ..., 9.8011e-23, 1.9054e-15,\n",
       "         1.6692e-15],\n",
       "        ...,\n",
       "        [1.3462e-14, 9.7413e-16, 4.8658e-08,  ..., 2.0939e-15, 6.5856e-24,\n",
       "         2.4847e-19],\n",
       "        [1.4618e-14, 8.8084e-10, 1.7650e-18,  ..., 9.4833e-09, 4.2065e-19,\n",
       "         1.2494e-07],\n",
       "        [3.9960e-07, 1.9436e-06, 2.9387e-07,  ..., 6.3255e-07, 1.3456e-13,\n",
       "         2.0617e-09]])"
      ]
     },
     "execution_count": 139,
     "metadata": {},
     "output_type": "execute_result"
    }
   ],
   "source": [
    "# softmax over the logits to get the probabilities\n",
    "exp_logits = logits.exp()\n",
    "probs = exp_logits / exp_logits.sum(dim=1, keepdim=True)\n",
    "\n",
    "print(f\"Probabilities shape: {probs.shape}\")\n",
    "probs"
   ]
  },
  {
   "cell_type": "code",
   "execution_count": 140,
   "metadata": {},
   "outputs": [
    {
     "name": "stdout",
     "output_type": "stream",
     "text": [
      "Number of parameters: 11897\n",
      "Loss: 27.762474060058594\n"
     ]
    }
   ],
   "source": [
    "parameters = [C, W1, b1, W2, b2]\n",
    "for param in parameters:\n",
    "    param.requires_grad = True\n",
    "\n",
    "num_params = sum(p.nelement() for p in parameters)\n",
    "print(f\"Number of parameters: {num_params}\")\n",
    "\n",
    "# negative log likelihood loss fn: loss  = -probs[range(len(Y)), Y].log().mean()\n",
    "loss = F.cross_entropy(logits, Y_train)\n",
    "print(f\"Loss: {loss}\")"
   ]
  },
  {
   "cell_type": "code",
   "execution_count": 141,
   "metadata": {},
   "outputs": [],
   "source": [
    "# stats to track\n",
    "steps = []\n",
    "steps_loss = []"
   ]
  },
  {
   "cell_type": "code",
   "execution_count": 153,
   "metadata": {},
   "outputs": [
    {
     "name": "stdout",
     "output_type": "stream",
     "text": [
      "Epoch: 10000 | Loss: 1.9835788011550903\n",
      "Epoch: 20000 | Loss: 1.753211259841919\n",
      "Epoch: 30000 | Loss: 1.8775767087936401\n",
      "Epoch: 40000 | Loss: 2.0037198066711426\n",
      "Epoch: 50000 | Loss: 1.8630813360214233\n",
      "Loss after training: 1.8630813360214233\n"
     ]
    }
   ],
   "source": [
    "# training on mini batches\n",
    "batch_size = 32\n",
    "alpha = 0.001\n",
    "num_epochs = 50000\n",
    "\n",
    "for epoch in range(num_epochs):\n",
    "    # selecting random indices for the mini batch\n",
    "    idx = torch.randint(0, X_train.shape[0], (batch_size,))\n",
    "    \n",
    "    # forward pass\n",
    "    embeddings = C[X_train[idx]] # shape: (batch_size, 3, 2)\n",
    "    hidden_layer_output = torch.tanh((embeddings.view(-1, 30) @ W1) + b1) # shape: (batch_size, 100)\n",
    "    logits = (hidden_layer_output @ W2) + b2 # shape: (batch_size, 27)\n",
    "    loss = F.cross_entropy(logits, Y_train[idx])\n",
    "    \n",
    "    if (epoch + 1) % 10000 == 0:\n",
    "        print(f\"Epoch: {epoch+1} | Loss: {loss}\")\n",
    "    \n",
    "    # backward pass\n",
    "    for param in parameters:\n",
    "        param.grad = None\n",
    "    loss.backward()\n",
    "    # updating the parameters\n",
    "    for param in parameters:\n",
    "        param.data += -alpha * param.grad\n",
    "        \n",
    "    # saving the loss and steps\n",
    "    steps.append(epoch+1)\n",
    "    steps_loss.append(loss.log10().item()) # log10 to avoid very small values\n",
    "print(f\"Loss after training: {loss}\")"
   ]
  },
  {
   "cell_type": "code",
   "execution_count": 154,
   "metadata": {},
   "outputs": [
    {
     "data": {
      "text/plain": [
       "[<matplotlib.lines.Line2D at 0x198ead5c4c0>]"
      ]
     },
     "execution_count": 154,
     "metadata": {},
     "output_type": "execute_result"
    },
    {
     "data": {
      "image/png": "[encoded data removed]",
      "text/plain": [
       "<Figure size 640x480 with 1 Axes>"
      ]
     },
     "metadata": {},
     "output_type": "display_data"
    }
   ],
   "source": [
    "# plotting loss\n",
    "plt.plot(steps, steps_loss)"
   ]
  },
  {
   "cell_type": "code",
   "execution_count": 155,
   "metadata": {},
   "outputs": [
    {
     "name": "stdout",
     "output_type": "stream",
     "text": [
      "Validation Loss: 1.9908475875854492\n"
     ]
    }
   ],
   "source": [
    "# calculating the overall loss\n",
    "embeddings = C[X_dev]\n",
    "hidden_layer_output = torch.tanh((embeddings.view(-1, 30) @ W1) + b1)\n",
    "logits = (hidden_layer_output @ W2) + b2\n",
    "loss = F.cross_entropy(logits, Y_dev)\n",
    "print(f\"Validation Loss: {loss}\")"
   ]
  },
  {
   "cell_type": "code",
   "execution_count": 156,
   "metadata": {},
   "outputs": [
    {
     "data": {
      "image/png": "[encoded data removed]",
      "text/plain": [
       "<Figure size 800x800 with 1 Axes>"
      ]
     },
     "metadata": {},
     "output_type": "display_data"
    }
   ],
   "source": [
    "# visualizing trained embeddings\n",
    "plt.figure(figsize=(8, 8))\n",
    "plt.scatter(C[:, 0].data, C[:, 1].data, s=200)\n",
    "for i in range(C.shape[0]):\n",
    "    plt.text(C[i, 0].item(), C[i, 1].item(), id_to_ch[i], ha='center', va='center', color='white')\n",
    "plt.grid(\"minor\")"
   ]
  },
  {
   "cell_type": "code",
   "execution_count": 168,
   "metadata": {},
   "outputs": [
    {
     "data": {
      "text/plain": [
       "['chita',\n",
       " 'priyi',\n",
       " 'hyitteavan',\n",
       " 'vaaneshanuruki',\n",
       " 'amaseya',\n",
       " 'shani',\n",
       " 'tanuma',\n",
       " 'maabar',\n",
       " 'lishni',\n",
       " 'tar',\n",
       " 'shaanibhagavindansh',\n",
       " 'elaapisha',\n",
       " 'mohita',\n",
       " 'ipsha',\n",
       " 'bha',\n",
       " 'prashana',\n",
       " 'gununa',\n",
       " 'prathushagu',\n",
       " 'muka',\n",
       " 'nikshan']"
      ]
     },
     "execution_count": 168,
     "metadata": {},
     "output_type": "execute_result"
    }
   ],
   "source": [
    "# sampling from the model (generating new names)\n",
    "g = torch.Generator()\n",
    "predicted_names = []\n",
    "block_size = 3\n",
    "\n",
    "for _ in range(20):\n",
    "    name = \"\"\n",
    "    context = [0] * block_size\n",
    "    while True:\n",
    "        embeddings = C[torch.tensor(context)]\n",
    "        hidden_layer_output = torch.tanh((embeddings.view(1, -1) @ W1) + b1)\n",
    "        logits = (hidden_layer_output @ W2) + b2\n",
    "        probs = F.softmax(logits, dim=1)\n",
    "        idx = torch.multinomial(probs, num_samples=1, generator=g).item()\n",
    "        context = context[1:] + [idx]\n",
    "        if idx != 0:\n",
    "            name += id_to_ch[idx]\n",
    "        else:\n",
    "            predicted_names.append(name)\n",
    "            break\n",
    "predicted_names"
   ]
  }
 ],
 "metadata": {
  "kernelspec": {
   "display_name": "Python 3",
   "language": "python",
   "name": "python3"
  },
  "language_info": {
   "codemirror_mode": {
    "name": "ipython",
    "version": 3
   },
   "file_extension": ".py",
   "mimetype": "text/x-python",
   "name": "python",
   "nbconvert_exporter": "python",
   "pygments_lexer": "ipython3",
   "version": "3.9.9"
  }
 },
 "nbformat": 4,
 "nbformat_minor": 2
}
