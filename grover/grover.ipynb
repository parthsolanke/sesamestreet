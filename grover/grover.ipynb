{
 "cells": [
  {
   "cell_type": "code",
   "execution_count": 1,
   "metadata": {},
   "outputs": [],
   "source": [
    "import torch\n",
    "import random\n",
    "from tqdm import tqdm\n",
    "import torch.nn.functional as F\n",
    "import matplotlib.pyplot as plt\n",
    "%matplotlib inline"
   ]
  },
  {
   "cell_type": "code",
   "execution_count": 2,
   "metadata": {},
   "outputs": [
    {
     "name": "stdout",
     "output_type": "stream",
     "text": [
      "Number of words: 55272\n",
      "first 5 words: ['parish', 'manhi', 'akshaykeerti', 'suran', 'tomali']\n"
     ]
    }
   ],
   "source": [
    "# loading dataset\n",
    "words = open(r\"data\\names.txt\").read().splitlines()\n",
    "print(f\"Number of words: {len(words)}\")\n",
    "print(f\"first 5 words: {words[:5]}\")"
   ]
  },
  {
   "cell_type": "code",
   "execution_count": 3,
   "metadata": {},
   "outputs": [
    {
     "name": "stdout",
     "output_type": "stream",
     "text": [
      "Charecters to id: {'a': 1, 'b': 2, 'c': 3, 'd': 4, 'e': 5, 'f': 6, 'g': 7, 'h': 8, 'i': 9, 'j': 10, 'k': 11, 'l': 12, 'm': 13, 'n': 14, 'o': 15, 'p': 16, 'q': 17, 'r': 18, 's': 19, 't': 20, 'u': 21, 'v': 22, 'w': 23, 'x': 24, 'y': 25, 'z': 26, '.': 0}\n",
      "Id to charecters: {1: 'a', 2: 'b', 3: 'c', 4: 'd', 5: 'e', 6: 'f', 7: 'g', 8: 'h', 9: 'i', 10: 'j', 11: 'k', 12: 'l', 13: 'm', 14: 'n', 15: 'o', 16: 'p', 17: 'q', 18: 'r', 19: 's', 20: 't', 21: 'u', 22: 'v', 23: 'w', 24: 'x', 25: 'y', 26: 'z', 0: '.'}\n",
      "Vocab size: 27\n"
     ]
    }
   ],
   "source": [
    "# creating a look up table (dictionary to map int to characters and vice versa)\n",
    "chars = sorted(list(set(''.join(words))))\n",
    "ch_to_id = {ch:i+1 for i, ch in enumerate(chars)}\n",
    "ch_to_id['.'] = 0 # special char to mark ending and starting of a word\n",
    "vocab_size = len(ch_to_id)\n",
    "id_to_ch = {i:ch for ch, i in ch_to_id.items()}\n",
    "print(f\"Charecters to id: {ch_to_id}\")\n",
    "print(f\"Id to charecters: {id_to_ch}\")\n",
    "print(f\"Vocab size: {vocab_size}\")"
   ]
  },
  {
   "cell_type": "code",
   "execution_count": 4,
   "metadata": {},
   "outputs": [
    {
     "name": "stdout",
     "output_type": "stream",
     "text": [
      "\n",
      "X_train shape: torch.Size([401629, 8])\n",
      "Y_train shape: torch.Size([401629])\n",
      "\n",
      "X_dev shape: torch.Size([50198, 8])\n",
      "Y_dev shape: torch.Size([50198])\n",
      "\n",
      "X_test shape: torch.Size([50140, 8])\n",
      "Y_test shape: torch.Size([50140])\n"
     ]
    }
   ],
   "source": [
    "# building our datasets: training split(80%), dev/validation split(10%) and test split(10%)\n",
    "\n",
    "block_size = 8 # context length: how many charecters to consider to predict the next charecter\n",
    "def buid_dataset(words, str):\n",
    "    X, Y = [], [] # X: context, Y: target\n",
    "    for word in words:\n",
    "        context = [0] * block_size\n",
    "        for ch in word + \".\": # adding a special char to mark the end of a word\n",
    "            current_idx = ch_to_id[ch]\n",
    "            X.append(context)\n",
    "            Y.append(current_idx)\n",
    "            context = context[1:] + [current_idx] # sliding the context window\n",
    "            \n",
    "    # converting the dataset to tensors        \n",
    "    X = torch.tensor(X)\n",
    "    Y = torch.tensor(Y)\n",
    "    print(f\"\\nX_{str} shape: {X.shape}\")\n",
    "    print(f\"Y_{str} shape: {Y.shape}\")\n",
    "    return X, Y\n",
    "\n",
    "random.shuffle(words)\n",
    "lim1 = int(len(words) * 0.8)\n",
    "lim2 = int(len(words) * 0.9)\n",
    "\n",
    "X_train, Y_train = buid_dataset(words[:lim1], \"train\")\n",
    "X_dev, Y_dev = buid_dataset(words[lim1:lim2], \"dev\")\n",
    "X_test, Y_test = buid_dataset(words[lim2:], \"test\")"
   ]
  },
  {
   "cell_type": "code",
   "execution_count": 5,
   "metadata": {},
   "outputs": [
    {
     "name": "stdout",
     "output_type": "stream",
     "text": [
      "........ --> p\n",
      ".......p --> r\n",
      "......pr --> i\n",
      ".....pri --> y\n",
      "....priy --> a\n",
      "...priya --> d\n",
      "..priyad --> h\n",
      ".priyadh --> a\n",
      "priyadha --> r\n",
      "riyadhar --> s\n",
      "iyadhars --> i\n",
      "yadharsi --> n\n",
      "adharsin --> i\n",
      "dharsini --> .\n",
      "........ --> d\n",
      ".......d --> a\n",
      "......da --> y\n",
      ".....day --> a\n",
      "....daya --> m\n",
      "...dayam --> a\n"
     ]
    }
   ],
   "source": [
    "# insights into dataset\n",
    "for x,y in zip(X_train[:20], Y_train[:20]):\n",
    "  print(''.join(id_to_ch[ix.item()] for ix in x), '-->', id_to_ch[y.item()])"
   ]
  },
  {
   "cell_type": "code",
   "execution_count": 88,
   "metadata": {},
   "outputs": [],
   "source": [
    "# Pytorchyfying elmo 2.0\n",
    "\n",
    "# Linear class\n",
    "class Linear:\n",
    "    \n",
    "    def __init__(self, fan_in, fan_out, bias=True):\n",
    "        self.weight = torch.randn((fan_in, fan_out)) / fan_in**0.5 # kaming init\n",
    "        self.bias = torch.zeros(fan_out) if bias else None\n",
    "        \n",
    "    def __call__(self, x):\n",
    "        self.out = x @ self.weight\n",
    "        if self.bias is not None:\n",
    "            self.out += self.bias\n",
    "        return self.out\n",
    "    \n",
    "    def parameters(self):\n",
    "        return [self.weight] + ([] if self.bias is None else [self.bias])\n",
    "    \n",
    "# BatchNorm class\n",
    "class BatchNorm1d:\n",
    "    \n",
    "    def __init__(self, dim, eps=1e-5, momentum=0.1):\n",
    "        self.eps = eps\n",
    "        self.momentum = momentum\n",
    "        self.training = True\n",
    "        # params\n",
    "        self.gamma = torch.ones(dim)\n",
    "        self.beta = torch.zeros(dim)\n",
    "        # buffers\n",
    "        self.running_mean = torch.zeros(dim)\n",
    "        self.running_var = torch.ones(dim)\n",
    "        \n",
    "    def __call__(self, x):\n",
    "        # forward pass\n",
    "        if self.training:\n",
    "            if x.ndim == 2:\n",
    "                dim = 0\n",
    "            elif x.ndim == 3:\n",
    "                dim = (0, 1)\n",
    "            xmean = x.mean(dim, keepdim=True) # batch mean\n",
    "            xvar = x.var(dim, keepdim=True) # batch variance\n",
    "        else:\n",
    "            xmean = self.running_mean\n",
    "            xvar = self.running_var\n",
    "        xhat = (x - xmean) / torch.sqrt(xvar + self.eps) # normalize\n",
    "        self.out = self.gamma * xhat + self.beta\n",
    "        # update buffers\n",
    "        if self.training:\n",
    "            with torch.no_grad():\n",
    "                self.running_mean = (1 - self.momentum) * self.running_mean + self.momentum * xmean\n",
    "                self.running_var = (1 - self.momentum) * self.running_var + self.momentum * xvar\n",
    "        return self.out\n",
    "    \n",
    "    def parameters(self):\n",
    "        return [self.gamma, self.beta]\n",
    "    \n",
    "# Activation class\n",
    "class Tanh:\n",
    "    \n",
    "    def __call__(self, x):\n",
    "        self.out = torch.tanh(x)\n",
    "        return self.out\n",
    "    def parameters(self):\n",
    "        return []\n",
    "    \n",
    "# Embedding class\n",
    "class Embedding:\n",
    "    \n",
    "    def __init__(self, num_embeddings, embeddings_dim):\n",
    "        self.weight = torch.randn((num_embeddings, embeddings_dim))\n",
    "        \n",
    "    def __call__(self, idx):\n",
    "        self.out = self.weight[idx]\n",
    "        return self.out\n",
    "        \n",
    "    def parameters(self):\n",
    "        return [self.weight]\n",
    "    \n",
    "# class to perfom embedding operations\n",
    "class FlattenConsecutive:\n",
    "    \n",
    "    def __init__(self, n):\n",
    "        self.n = n\n",
    "    \n",
    "    def __call__(self, x):\n",
    "        B, T, C = x.shape\n",
    "        x = x.view(B, T//self.n, C*self.n)\n",
    "        if x.shape[1] == 1:\n",
    "            x = x.squeeze(1)\n",
    "        self.out = x\n",
    "        return self.out\n",
    "    \n",
    "    def parameters(self):\n",
    "        return []\n",
    "    \n",
    "# class to bind all layers together\n",
    "class Sequential:\n",
    "    \n",
    "    def __init__(self, layers):\n",
    "        self.layers = layers\n",
    "    \n",
    "    def __call__(self, x):\n",
    "        for layer in self.layers:\n",
    "            x = layer(x)\n",
    "        self.out = x\n",
    "        return self.out\n",
    "    \n",
    "    def parameters(self):\n",
    "        return [p for layer in self.layers for p in layer.parameters()]"
   ]
  },
  {
   "cell_type": "code",
   "execution_count": 89,
   "metadata": {},
   "outputs": [
    {
     "name": "stdout",
     "output_type": "stream",
     "text": [
      "76579\n"
     ]
    }
   ],
   "source": [
    "# initialization\n",
    "num_embd = 24 # embedding vector dimensions\n",
    "num_hidden = 128 # num neurons hidden layer\n",
    "\n",
    "model = Sequential([\n",
    "  Embedding(vocab_size, num_embd),\n",
    "  FlattenConsecutive(2), Linear(num_embd * 2, num_hidden, bias=False), BatchNorm1d(num_hidden), Tanh(),\n",
    "  FlattenConsecutive(2), Linear(num_hidden*2, num_hidden, bias=False), BatchNorm1d(num_hidden), Tanh(),\n",
    "  FlattenConsecutive(2), Linear(num_hidden*2, num_hidden, bias=False), BatchNorm1d(num_hidden), Tanh(),\n",
    "  Linear(num_hidden, vocab_size),\n",
    "])\n",
    "\n",
    "with torch.no_grad():\n",
    "  # last layer make less confident\n",
    "  model.layers[-1].weight *= 0.1\n",
    "\n",
    "parameters = model.parameters()\n",
    "print(sum(p.nelement() for p in parameters)) # number of parameters in total\n",
    "for p in parameters:\n",
    "  p.requires_grad = True"
   ]
  },
  {
   "cell_type": "code",
   "execution_count": 90,
   "metadata": {},
   "outputs": [
    {
     "name": "stderr",
     "output_type": "stream",
     "text": [
      "\u001b[32m  0%|          \u001b[0m"
     ]
    },
    {
     "name": "stdout",
     "output_type": "stream",
     "text": [
      "Step: \u001b[93m      0/ 200000\u001b[0m: Loss: \u001b[93m3.2931\u001b[0m\n"
     ]
    },
    {
     "name": "stderr",
     "output_type": "stream",
     "text": [
      "\u001b[32m  5%|▌         \u001b[0m"
     ]
    },
    {
     "name": "stdout",
     "output_type": "stream",
     "text": [
      "Step: \u001b[93m  10000/ 200000\u001b[0m: Loss: \u001b[93m1.5852\u001b[0m\n"
     ]
    },
    {
     "name": "stderr",
     "output_type": "stream",
     "text": [
      "\u001b[32m 10%|█         \u001b[0m"
     ]
    },
    {
     "name": "stdout",
     "output_type": "stream",
     "text": [
      "Step: \u001b[93m  20000/ 200000\u001b[0m: Loss: \u001b[93m1.6541\u001b[0m\n"
     ]
    },
    {
     "name": "stderr",
     "output_type": "stream",
     "text": [
      "\u001b[32m 15%|█▌        \u001b[0m"
     ]
    },
    {
     "name": "stdout",
     "output_type": "stream",
     "text": [
      "Step: \u001b[93m  30000/ 200000\u001b[0m: Loss: \u001b[93m1.8202\u001b[0m\n"
     ]
    },
    {
     "name": "stderr",
     "output_type": "stream",
     "text": [
      "\u001b[32m 20%|██        \u001b[0m"
     ]
    },
    {
     "name": "stdout",
     "output_type": "stream",
     "text": [
      "Step: \u001b[93m  40000/ 200000\u001b[0m: Loss: \u001b[93m1.6653\u001b[0m\n"
     ]
    },
    {
     "name": "stderr",
     "output_type": "stream",
     "text": [
      "\u001b[32m 25%|██▌       \u001b[0m"
     ]
    },
    {
     "name": "stdout",
     "output_type": "stream",
     "text": [
      "Step: \u001b[93m  50000/ 200000\u001b[0m: Loss: \u001b[93m1.9229\u001b[0m\n"
     ]
    },
    {
     "name": "stderr",
     "output_type": "stream",
     "text": [
      "\u001b[32m 30%|███       \u001b[0m"
     ]
    },
    {
     "name": "stdout",
     "output_type": "stream",
     "text": [
      "Step: \u001b[93m  60000/ 200000\u001b[0m: Loss: \u001b[93m1.7600\u001b[0m\n"
     ]
    },
    {
     "name": "stderr",
     "output_type": "stream",
     "text": [
      "\u001b[32m 35%|███▌      \u001b[0m"
     ]
    },
    {
     "name": "stdout",
     "output_type": "stream",
     "text": [
      "Step: \u001b[93m  70000/ 200000\u001b[0m: Loss: \u001b[93m1.8752\u001b[0m\n"
     ]
    },
    {
     "name": "stderr",
     "output_type": "stream",
     "text": [
      "\u001b[32m 40%|████      \u001b[0m"
     ]
    },
    {
     "name": "stdout",
     "output_type": "stream",
     "text": [
      "Step: \u001b[93m  80000/ 200000\u001b[0m: Loss: \u001b[93m2.3196\u001b[0m\n"
     ]
    },
    {
     "name": "stderr",
     "output_type": "stream",
     "text": [
      "\u001b[32m 45%|████▌     \u001b[0m"
     ]
    },
    {
     "name": "stdout",
     "output_type": "stream",
     "text": [
      "Step: \u001b[93m  90000/ 200000\u001b[0m: Loss: \u001b[93m2.0713\u001b[0m\n"
     ]
    },
    {
     "name": "stderr",
     "output_type": "stream",
     "text": [
      "\u001b[32m 50%|█████     \u001b[0m"
     ]
    },
    {
     "name": "stdout",
     "output_type": "stream",
     "text": [
      "Step: \u001b[93m 100000/ 200000\u001b[0m: Loss: \u001b[93m1.9093\u001b[0m\n"
     ]
    },
    {
     "name": "stderr",
     "output_type": "stream",
     "text": [
      "\u001b[32m 55%|█████▌    \u001b[0m"
     ]
    },
    {
     "name": "stdout",
     "output_type": "stream",
     "text": [
      "Step: \u001b[93m 110000/ 200000\u001b[0m: Loss: \u001b[93m1.8865\u001b[0m\n"
     ]
    },
    {
     "name": "stderr",
     "output_type": "stream",
     "text": [
      "\u001b[32m 60%|██████    \u001b[0m"
     ]
    },
    {
     "name": "stdout",
     "output_type": "stream",
     "text": [
      "Step: \u001b[93m 120000/ 200000\u001b[0m: Loss: \u001b[93m1.9386\u001b[0m\n"
     ]
    },
    {
     "name": "stderr",
     "output_type": "stream",
     "text": [
      "\u001b[32m 65%|██████▌   \u001b[0m"
     ]
    },
    {
     "name": "stdout",
     "output_type": "stream",
     "text": [
      "Step: \u001b[93m 130000/ 200000\u001b[0m: Loss: \u001b[93m1.6440\u001b[0m\n"
     ]
    },
    {
     "name": "stderr",
     "output_type": "stream",
     "text": [
      "\u001b[32m 70%|███████   \u001b[0m"
     ]
    },
    {
     "name": "stdout",
     "output_type": "stream",
     "text": [
      "Step: \u001b[93m 140000/ 200000\u001b[0m: Loss: \u001b[93m2.1550\u001b[0m\n"
     ]
    },
    {
     "name": "stderr",
     "output_type": "stream",
     "text": [
      "\u001b[32m 75%|███████▌  \u001b[0m"
     ]
    },
    {
     "name": "stdout",
     "output_type": "stream",
     "text": [
      "Step: \u001b[93m 150000/ 200000\u001b[0m: Loss: \u001b[93m1.4115\u001b[0m\n"
     ]
    },
    {
     "name": "stderr",
     "output_type": "stream",
     "text": [
      "\u001b[32m 80%|████████  \u001b[0m"
     ]
    },
    {
     "name": "stdout",
     "output_type": "stream",
     "text": [
      "Step: \u001b[93m 160000/ 200000\u001b[0m: Loss: \u001b[93m1.6218\u001b[0m\n"
     ]
    },
    {
     "name": "stderr",
     "output_type": "stream",
     "text": [
      "\u001b[32m 85%|████████▌ \u001b[0m"
     ]
    },
    {
     "name": "stdout",
     "output_type": "stream",
     "text": [
      "Step: \u001b[93m 170000/ 200000\u001b[0m: Loss: \u001b[93m1.4906\u001b[0m\n"
     ]
    },
    {
     "name": "stderr",
     "output_type": "stream",
     "text": [
      "\u001b[32m 90%|█████████ \u001b[0m"
     ]
    },
    {
     "name": "stdout",
     "output_type": "stream",
     "text": [
      "Step: \u001b[93m 180000/ 200000\u001b[0m: Loss: \u001b[93m2.0452\u001b[0m\n"
     ]
    },
    {
     "name": "stderr",
     "output_type": "stream",
     "text": [
      "\u001b[32m 95%|█████████▌\u001b[0m"
     ]
    },
    {
     "name": "stdout",
     "output_type": "stream",
     "text": [
      "Step: \u001b[93m 190000/ 200000\u001b[0m: Loss: \u001b[93m1.6821\u001b[0m\n"
     ]
    },
    {
     "name": "stderr",
     "output_type": "stream",
     "text": [
      "\u001b[32m100%|██████████\u001b[0m"
     ]
    },
    {
     "name": "stdout",
     "output_type": "stream",
     "text": [
      "Final loss: 1.7804011106491089\n"
     ]
    },
    {
     "name": "stderr",
     "output_type": "stream",
     "text": [
      "\n"
     ]
    }
   ],
   "source": [
    "# optimization\n",
    "max_steps = 200000\n",
    "batch_size = 32\n",
    "lossi = []\n",
    "\n",
    "for i in tqdm(range(max_steps), desc=\"\", bar_format=\"\\033[32m{l_bar}{bar}\\033[0m\"):\n",
    "  # minibatches\n",
    "  idx = torch.randint(0, X_train.shape[0], (batch_size,))\n",
    "  mini_X, mini_Y = X_train[idx], Y_train[idx] # batch X,Y\n",
    "  \n",
    "  # forward pass\n",
    "  logits = model(mini_X)\n",
    "  loss = F.cross_entropy(logits, mini_Y) # loss function\n",
    "  \n",
    "  # backward pass\n",
    "  for p in parameters:\n",
    "    p.grad = None\n",
    "  loss.backward()\n",
    "  \n",
    "  # update\n",
    "  lr = 0.1 if i < 150000 else 0.01 # learning rate decay\n",
    "  for p in parameters:\n",
    "    p.data += -lr * p.grad\n",
    "\n",
    "  # track stats\n",
    "  if i % 10000 == 0: # print every once in a while\n",
    "    print(f'Step: \\033[93m{i:7d}/{max_steps:7d}\\033[0m: Loss: \\033[93m{loss.item():.4f}\\033[0m')\n",
    "  lossi.append(loss.log10().item())\n",
    "  \n",
    "print(f\"Final loss: {loss}\")"
   ]
  },
  {
   "cell_type": "code",
   "execution_count": 91,
   "metadata": {},
   "outputs": [
    {
     "data": {
      "text/plain": [
       "[<matplotlib.lines.Line2D at 0x1bb02442c40>]"
      ]
     },
     "execution_count": 91,
     "metadata": {},
     "output_type": "execute_result"
    },
    {
     "data": {
      "image/png": "[encoded data removed]",
      "text/plain": [
       "<Figure size 640x480 with 1 Axes>"
      ]
     },
     "metadata": {},
     "output_type": "display_data"
    }
   ],
   "source": [
    "# plotting loss\n",
    "plt.plot(torch.tensor(lossi).view(-1, 1000).mean(1))"
   ]
  },
  {
   "cell_type": "code",
   "execution_count": 92,
   "metadata": {},
   "outputs": [],
   "source": [
    "# putting layers in eval mode\n",
    "for layer in model.layers:\n",
    "    layer.training = False"
   ]
  },
  {
   "cell_type": "code",
   "execution_count": 93,
   "metadata": {},
   "outputs": [
    {
     "name": "stdout",
     "output_type": "stream",
     "text": [
      "train 1.6917644739151\n",
      "val 1.7702360153198242\n"
     ]
    }
   ],
   "source": [
    "@torch.no_grad() # this decorator disables gradient tracking\n",
    "def split_loss(split):\n",
    "  x,y = {\n",
    "    'train': (X_train, Y_train),\n",
    "    'val': (X_dev, Y_dev),\n",
    "    'test': (X_test, Y_test),\n",
    "  }[split]\n",
    "  logits = model(x)\n",
    "  loss = F.cross_entropy(logits, y)\n",
    "  print(split, loss.item())\n",
    "\n",
    "split_loss('train')\n",
    "split_loss('val')"
   ]
  },
  {
   "cell_type": "code",
   "execution_count": 94,
   "metadata": {},
   "outputs": [
    {
     "name": "stdout",
     "output_type": "stream",
     "text": [
      "amalarasuri.\n",
      "rohapriya.\n",
      "iznk.\n",
      "dwalasan.\n",
      "aswethigasri.\n",
      "pranavan.\n",
      "gnanoosri.\n",
      "tanshya.\n",
      "mathyavari.\n",
      "padavarsini.\n",
      "jegadambini.\n",
      "eezhina.\n",
      "niliyavan.\n",
      "deshanthanan.\n",
      "moushil.\n",
      "safvinthalasen.\n",
      "brithira.\n",
      "parethini.\n",
      "achan.\n",
      "gaurishikant.\n"
     ]
    }
   ],
   "source": [
    "for _ in range(20):\n",
    "    \n",
    "    out = []\n",
    "    context = [0] * block_size # initialize with all ...\n",
    "    while True:\n",
    "      logits = model(torch.tensor([context]))\n",
    "      probs = F.softmax(logits, dim=1)\n",
    "      # sample from the distribution\n",
    "      ix = torch.multinomial(probs, num_samples=1).item()\n",
    "      # shift the context window and track the samples\n",
    "      context = context[1:] + [ix]\n",
    "      out.append(ix)\n",
    "      # if we sample the special '.' token, break\n",
    "      if ix == 0:\n",
    "        break\n",
    "    \n",
    "    print(''.join(id_to_ch[i] for i in out)) # decode and print the generated word"
   ]
  }
 ],
 "metadata": {
  "kernelspec": {
   "display_name": "Python 3",
   "language": "python",
   "name": "python3"
  },
  "language_info": {
   "codemirror_mode": {
    "name": "ipython",
    "version": 3
   },
   "file_extension": ".py",
   "mimetype": "text/x-python",
   "name": "python",
   "nbconvert_exporter": "python",
   "pygments_lexer": "ipython3",
   "version": "3.9.9"
  }
 },
 "nbformat": 4,
 "nbformat_minor": 2
}
